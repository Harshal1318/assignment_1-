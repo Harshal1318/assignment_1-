{
 "cells": [
  {
   "cell_type": "code",
   "execution_count": 2,
   "id": "3c7c10ce-bbcf-47ca-874a-6c71e6ea7089",
   "metadata": {},
   "outputs": [
    {
     "name": "stdout",
     "output_type": "stream",
     "text": [
      "Collecting opencv-python\n",
      "  Downloading opencv_python-4.12.0.88-cp37-abi3-win_amd64.whl.metadata (19 kB)\n",
      "Requirement already satisfied: numpy<2.3.0,>=2 in c:\\users\\hghad\\anaconda3\\lib\\site-packages (from opencv-python) (2.1.3)\n",
      "Downloading opencv_python-4.12.0.88-cp37-abi3-win_amd64.whl (39.0 MB)\n",
      "   ---------------------------------------- 0.0/39.0 MB ? eta -:--:--\n",
      "    --------------------------------------- 0.8/39.0 MB 4.8 MB/s eta 0:00:08\n",
      "   -- ------------------------------------- 2.4/39.0 MB 6.1 MB/s eta 0:00:06\n",
      "   ---- ----------------------------------- 3.9/39.0 MB 7.0 MB/s eta 0:00:05\n",
      "   ------ --------------------------------- 6.3/39.0 MB 8.0 MB/s eta 0:00:05\n",
      "   -------- ------------------------------- 8.1/39.0 MB 8.4 MB/s eta 0:00:04\n",
      "   ---------- ----------------------------- 10.2/39.0 MB 8.6 MB/s eta 0:00:04\n",
      "   ------------ --------------------------- 12.6/39.0 MB 9.0 MB/s eta 0:00:03\n",
      "   --------------- ------------------------ 14.9/39.0 MB 9.3 MB/s eta 0:00:03\n",
      "   ----------------- ---------------------- 17.3/39.0 MB 9.5 MB/s eta 0:00:03\n",
      "   -------------------- ------------------- 20.2/39.0 MB 9.9 MB/s eta 0:00:02\n",
      "   ----------------------- ---------------- 22.5/39.0 MB 10.1 MB/s eta 0:00:02\n",
      "   ------------------------- -------------- 25.2/39.0 MB 10.4 MB/s eta 0:00:02\n",
      "   ---------------------------- ----------- 27.8/39.0 MB 10.5 MB/s eta 0:00:02\n",
      "   ------------------------------- -------- 30.7/39.0 MB 10.8 MB/s eta 0:00:01\n",
      "   ---------------------------------- ----- 33.6/39.0 MB 11.0 MB/s eta 0:00:01\n",
      "   ------------------------------------ --- 35.9/39.0 MB 11.1 MB/s eta 0:00:01\n",
      "   ---------------------------------------  38.8/39.0 MB 11.2 MB/s eta 0:00:01\n",
      "   ---------------------------------------- 39.0/39.0 MB 10.9 MB/s eta 0:00:00\n",
      "Installing collected packages: opencv-python\n",
      "Successfully installed opencv-python-4.12.0.88\n"
     ]
    }
   ],
   "source": [
    "!pip install opencv-python\n"
   ]
  },
  {
   "cell_type": "code",
   "execution_count": 2,
   "id": "d3119c9e-20ee-4bf8-8472-42e454edb089",
   "metadata": {},
   "outputs": [],
   "source": [
    "import numpy as np\n",
    "import cv2\n",
    "\n",
    "# Load an color image in grayscale\n",
    "img = cv2.imread('lena-1.png',0)\n",
    "cv2.imshow('image',img)\n",
    "cv2.waitKey(0)\n",
    "cv2.destroyAllWindows()"
   ]
  },
  {
   "cell_type": "code",
   "execution_count": 4,
   "id": "f97e9bce-e3df-4727-a67a-c7ef342876af",
   "metadata": {},
   "outputs": [],
   "source": [
    "cv2.namedWindow('image', cv2.WINDOW_NORMAL)\n",
    "cv2.imshow('image',img)\n",
    "cv2.imwrite('messigray.png',img)\n",
    "cv2.waitKey(0)\n",
    "cv2.destroyAllWindows()"
   ]
  },
  {
   "cell_type": "code",
   "execution_count": 3,
   "id": "18cc5188-a29a-495b-a883-7def5ffb070c",
   "metadata": {},
   "outputs": [
    {
     "data": {
      "text/plain": [
       "True"
      ]
     },
     "execution_count": 3,
     "metadata": {},
     "output_type": "execute_result"
    }
   ],
   "source": [
    "cv2.imwrite('messigray.png',img)"
   ]
  },
  {
   "cell_type": "code",
   "execution_count": 1,
   "id": "51b50ac5-635b-4c83-a9ab-1a7d6f2d9ad3",
   "metadata": {},
   "outputs": [],
   "source": [
    "import numpy as np\n",
    "import cv2\n",
    "\n",
    "img = cv2.imread('lena-1.png',0)\n",
    "cv2.imshow('image',img)\n",
    "k = cv2.waitKey(0)\n",
    "if k == 27:         # wait for ESC key to exit\n",
    "    cv2.destroyAllWindows()\n",
    "elif k == ord('s'): # wait for 's' key to save and exit\n",
    "    cv2.imwrite('messigray.png',img)\n",
    "    cv2.destroyAllWindows()"
   ]
  },
  {
   "cell_type": "code",
   "execution_count": 1,
   "id": "bc8de035-f86f-4fc1-9dac-94542202ca48",
   "metadata": {},
   "outputs": [
    {
     "name": "stdout",
     "output_type": "stream",
     "text": [
      "Height: 512\n",
      "Width: 512\n",
      "Channels: 3\n",
      "Size (number of values in array): 786432\n",
      "Data type: uint8\n"
     ]
    }
   ],
   "source": [
    "import cv2\n",
    "\n",
    "def print_image_information(image):\n",
    "    if image is None:\n",
    "        print(\"Image not found!\")\n",
    "        return\n",
    "    \n",
    "    height, width = image.shape[:2]\n",
    "    channels = image.shape[2] if len(image.shape) == 3 else 1\n",
    "    size = image.size   # total number of values in the array\n",
    "    dtype = image.dtype\n",
    "\n",
    "    print(\"Height:\", height)\n",
    "    print(\"Width:\", width)\n",
    "    print(\"Channels:\", channels)\n",
    "    print(\"Size (number of values in array):\", size)\n",
    "    print(\"Data type:\", dtype)\n",
    "img = cv2.imread(\"lena-1.png\")\n",
    "print_image_information(img)\n",
    "\n"
   ]
  },
  {
   "cell_type": "code",
   "execution_count": 1,
   "id": "8f64fe26-d62e-4098-94ee-948931f11551",
   "metadata": {},
   "outputs": [],
   "source": [
    "import cv2\n",
    "cam = cv2.VideoCapture(0)\n",
    "frame_width = int(cam.get(cv2.CAP_PROP_FRAME_WIDTH))\n",
    "frame_height = int(cam.get(cv2.CAP_PROP_FRAME_HEIGHT))\n",
    "fourcc = cv2.VideoWriter_fourcc(*'mp4v')\n",
    "out = cv2.VideoWriter('output.mp4', fourcc, 20.0, (frame_width, frame_height))\n",
    "\n",
    "while True:\n",
    "    ret, frame = cam.read()\n",
    "    out.write(frame)\n",
    "    cv2.imshow('Camera', frame)\n",
    "    if cv2.waitKey(1) == ord('q'):\n",
    "        break\n",
    "cam.release()\n",
    "out.release()\n",
    "cv2.destroyAllWindows()"
   ]
  },
  {
   "cell_type": "code",
   "execution_count": null,
   "id": "96c649bf-fc4a-4c80-9b32-e75ef8eac588",
   "metadata": {},
   "outputs": [],
   "source": []
  }
 ],
 "metadata": {
  "kernelspec": {
   "display_name": "Python 3 (ipykernel)",
   "language": "python",
   "name": "python3"
  },
  "language_info": {
   "codemirror_mode": {
    "name": "ipython",
    "version": 3
   },
   "file_extension": ".py",
   "mimetype": "text/x-python",
   "name": "python",
   "nbconvert_exporter": "python",
   "pygments_lexer": "ipython3",
   "version": "3.13.5"
  }
 },
 "nbformat": 4,
 "nbformat_minor": 5
}
